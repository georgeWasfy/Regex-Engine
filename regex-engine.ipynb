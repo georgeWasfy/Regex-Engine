{
 "cells": [
  {
   "cell_type": "markdown",
   "metadata": {},
   "source": [
    "### Regex main building blocks:\n",
    "* Literal Characters: The most basic regular expression consists of a single literal character.\n",
    "* Special Characters: We have 11 special characters.\n",
    "    1. backslash [\\\\]: \n",
    "    2. caret [^]: matches the position before the first character in the string\n",
    "    3. dollar sign [$]: matches right after the last character in the string\n",
    "    4. dot [.]: The dot matches a single character, without caring what that character is. The only exception are line break characters\n",
    "    5. pipe symbol [|]: alternation to match a single regular expression out of several possible regular expressions\n",
    "    6. question mark [?]: makes the preceding token in the regular expression optional, match zero times or once\n",
    "    7. star [*]: match the preceding token zero or more times\n",
    "    8. plus sign [+]: match the preceding token once or more\n",
    "    9. parenthesis [()]: you can group a part of the regular expression together\n",
    "    10. square bracket [\\[\\]]: for character clases, match only one out of several characters ex. [a-z]\n",
    "    11. curly brace [{}]: allows you to specify how many times a token can be repeated. The syntax is {min,max}\n",
    "* Shorthand Character Classes: \n",
    "    1. \\d : [0-9]\n",
    "    2. \\w: [A-Za-z0-9_]\n",
    "    3. \\s: [ \\t\\r\\n\\f]\n",
    "    4. dot [.]:\n",
    "    5. pipe symbol [|]:\n",
    "    6. question mark [?]:\n"
   ]
  },
  {
   "cell_type": "code",
   "execution_count": 26,
   "metadata": {},
   "outputs": [
    {
     "name": "stdout",
     "output_type": "stream",
     "text": [
      "a =>  None 2 None None \n",
      "\n",
      "b =>  None None 3 None \n",
      "\n",
      "c =>  None None None 4 \n",
      "\n"
     ]
    }
   ],
   "source": [
    "# How to represent a NFA maybe as\n",
    "# 2d array representing transitions next_state = transition_table[row][col];\n",
    "# events are rows & states are columns\n",
    "# how to match abc, this is how the transition table should look like\n",
    "# last state is always accept state?? maybe\n",
    "#   s0 s1 s2 s3\n",
    "# a 1  N  N\n",
    "# b N  2  N\n",
    "# c N  N  3\n",
    "class State:\n",
    "    def __init__(self, size, name):\n",
    "        self.transitions = [None] * size  # Initialize the transitions list with None representing a failure state\n",
    "        self.name = name\n",
    "        \n",
    "    def setTransitions(self, range: range, nextStateIdx: int) -> None:\n",
    "        for i in range:\n",
    "            self.transitions[i] = nextStateIdx \n",
    "        \n",
    "class EngineNFA:\n",
    "    def __init__(self, alphabet):\n",
    "        self.transitions_table = [] \n",
    "        self.alphabet = alphabet # the language this NFA can describe\n",
    "        \n",
    "    def add_state(self, name, transition: range, nextStateIdx: int) -> None:\n",
    "        new_state = State(len(self.alphabet.keys()), name)  # Create a new instance of State\n",
    "        new_state.setTransitions(transition, nextStateIdx)\n",
    "        self.transitions_table.append(new_state)  # Add it to \n",
    "        \n",
    "    def get_state(self, index):\n",
    "        if 0 <= index < len(self.transitions_table):\n",
    "            return self.transitions_table[index]  # Return the State object at the given index\n",
    "        return None  # Return None if index is out of range\n",
    "    \n",
    "    def dump(self):\n",
    "        for idx, symbol in enumerate(self.alphabet.keys()):\n",
    "            print(f\"{self.alphabet[symbol]} => \", end=\" \")\n",
    "            for state in self.transitions_table:\n",
    "                print(state.transitions[idx], end=\" \")\n",
    "            print('\\n')\n",
    "    \n",
    "def main():\n",
    "    alphabet = {i: chr(i) for i in range(ord('a'), ord('c') + 1)}\n",
    "    NFA = EngineNFA(alphabet)\n",
    "    # state s0\n",
    "    NFA.add_state(\"s1\",  range(0), None)\n",
    "    \n",
    "    # state s1\n",
    "    NFA.add_state(\"s1\", range(0,1), 2)\n",
    "    \n",
    "    # state s0\n",
    "    NFA.add_state(\"s2\", range(1,2), 3)\n",
    "    \n",
    "    # state s3\n",
    "    NFA.add_state(\"s3\", range(2,3), 4)\n",
    "    \n",
    "    NFA.dump()\n",
    "main()\n"
   ]
  }
 ],
 "metadata": {
  "kernelspec": {
   "display_name": ".venv",
   "language": "python",
   "name": "python3"
  },
  "language_info": {
   "codemirror_mode": {
    "name": "ipython",
    "version": 3
   },
   "file_extension": ".py",
   "mimetype": "text/x-python",
   "name": "python",
   "nbconvert_exporter": "python",
   "pygments_lexer": "ipython3",
   "version": "3.10.12"
  }
 },
 "nbformat": 4,
 "nbformat_minor": 2
}
