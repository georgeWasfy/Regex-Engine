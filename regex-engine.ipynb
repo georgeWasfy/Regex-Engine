{
 "cells": [
  {
   "cell_type": "markdown",
   "metadata": {},
   "source": [
    "### Regex main building blocks:\n",
    "* Literal Characters: The most basic regular expression consists of a single literal character.\n",
    "* Special Characters: We have 11 special characters.\n",
    "    1. backslash [\\\\]: \n",
    "    2. caret [^]: matches the position before the first character in the string\n",
    "    3. dollar sign [$]: matches right after the last character in the string\n",
    "    4. dot [.]: The dot matches a single character, without caring what that character is. The only exception are line break characters\n",
    "    5. pipe symbol [|]: alternation to match a single regular expression out of several possible regular expressions\n",
    "    6. question mark [?]: makes the preceding token in the regular expression optional, match zero times or once\n",
    "    7. star [*]: match the preceding token zero or more times\n",
    "    8. plus sign [+]: match the preceding token once or more\n",
    "    9. parenthesis [()]: you can group a part of the regular expression together\n",
    "    10. square bracket [\\[\\]]: for character clases, match only one out of several characters ex. [a-z]\n",
    "    11. curly brace [{}]: allows you to specify how many times a token can be repeated. The syntax is {min,max}\n",
    "* Shorthand Character Classes: \n",
    "    1. \\d : [0-9]\n",
    "    2. \\w: [A-Za-z0-9_]\n",
    "    3. \\s: [ \\t\\r\\n\\f]\n",
    "    4. dot [.]:\n",
    "    5. pipe symbol [|]:\n",
    "    6. question mark [?]:\n"
   ]
  },
  {
   "cell_type": "code",
   "execution_count": null,
   "metadata": {},
   "outputs": [],
   "source": [
    "# How to represent a NFA maybe as\n",
    "# 2d array representing transitions next_state = transition_table[row][col];\n",
    "# events are rows & states are columns\n",
    "# how to match abc, this is how the transition table should look like\n",
    "# last state is always accept state?? maybe\n",
    "#   s0 s1 s2 s3\n",
    "# a 1  N  N\n",
    "# b N  2  N\n",
    "# c N  N  3\n",
    "class State:\n",
    "    def __init__(self, size, name):\n",
    "        self.transitions = [0] * size  # Initialize the transitions list with 0 representing a failure state\n",
    "        self.name = name\n",
    "        \n",
    "    def setTransitions(self, range: range, nextStateIdx: int) -> None:\n",
    "        for i in range:\n",
    "            self.transitions[i] = nextStateIdx \n",
    "        \n",
    "class EngineNFA:\n",
    "    def __init__(self, alphabet):\n",
    "        self.transitions_table = [] \n",
    "        self.alphabet = alphabet # the language this NFA can describe\n",
    "        \n",
    "    def add_state(self, name, transition: range, nextStateIdx: int) -> None:\n",
    "        new_state = State(len(self.alphabet.keys()), name)  # Create a new instance of State\n",
    "        new_state.setTransitions(transition, nextStateIdx)\n",
    "        self.transitions_table.append(new_state)  # Add it to \n",
    "            \n",
    "    def get_key_from_value(self, value):\n",
    "        keys = [k for k, v in self.alphabet.items() if v == value]\n",
    "        return keys[0] if keys else None\n",
    "\n",
    "    def is_match(self, input: str):\n",
    "        next_state = 1\n",
    "        for char in input:\n",
    "            if(next_state == 0 or next_state >= len(self.transitions_table)): break\n",
    "            alphabetKey = self.get_key_from_value(char)\n",
    "            if alphabetKey is None:\n",
    "                raise ValueError(f\"Value '{char}' is not part of the defined alphabet.\")\n",
    "            next_state = self.transitions_table[next_state].transitions[alphabetKey]\n",
    "            \n",
    "        if (next_state == 0): return False\n",
    "        # NOTE : for the string \"abc\" this matches \"abccc\" since char c always have correct ending state\n",
    "        # Is that CORRECT???\n",
    "        return next_state == len(self.transitions_table)\n",
    "    \n",
    "    def dump(self):\n",
    "        for symbol in self.alphabet.keys():\n",
    "            print(f\"{self.alphabet[symbol]} => \", end=\" \")\n",
    "            for state in self.transitions_table:\n",
    "                print(state.transitions[symbol], end=\" \")\n",
    "            print('\\n')\n",
    "    "
   ]
  },
  {
   "cell_type": "code",
   "execution_count": 52,
   "metadata": {},
   "outputs": [
    {
     "name": "stdout",
     "output_type": "stream",
     "text": [
      "True\n"
     ]
    }
   ],
   "source": [
    "# example of a NFA that recognizes the string \"abc\"\n",
    "alphabet = {i - ord('a'): chr(i) for i in range(ord('a'), ord('c') + 1)}\n",
    "events = ['a', 'b', 'c']\n",
    "NFA = EngineNFA(alphabet)\n",
    "# state s0 which is the start state\n",
    "NFA.add_state(\"s1\",  range(0), 0)\n",
    "for idx, _ in enumerate(events):\n",
    "    NFA.add_state(\"s\" + str(idx + 1), range(idx,idx + 1), len(NFA.transitions_table) + 1)\n",
    "\n",
    "print(NFA.is_match(\"abccc\"))"
   ]
  }
 ],
 "metadata": {
  "kernelspec": {
   "display_name": ".venv",
   "language": "python",
   "name": "python3"
  },
  "language_info": {
   "codemirror_mode": {
    "name": "ipython",
    "version": 3
   },
   "file_extension": ".py",
   "mimetype": "text/x-python",
   "name": "python",
   "nbconvert_exporter": "python",
   "pygments_lexer": "ipython3",
   "version": "3.10.12"
  }
 },
 "nbformat": 4,
 "nbformat_minor": 2
}
