{
 "cells": [
  {
   "cell_type": "markdown",
   "metadata": {},
   "source": [
    "# 🔍 Exploring Regular Expression Engine Implementations 🚀\n",
    "\n",
    "I want to understand what goes on inside a regex engine by writing a *simplified, illustrative* model that does **not** represent a fully compliant engine, but it will be more than sufficient for me to understand the core.\n",
    "\n",
    "**1. 🧱 Regex Building Blocks: A Quick Recap**\n",
    "\n",
    "   *   Metacharacters (`.`, `\\w`, `\\d`, `\\s`): Special symbols that define patterns.\n",
    "   *   Quantifiers (`*`, `+`, `?`, `{n,m}`): Control repetition.\n",
    "   *   Character Classes (`[a-z]`, `[0-9]`, `[^abc]`): Define sets of characters.\n",
    "   *   Grouping (`()`): Create sub-patterns.\n",
    "   *   Anchors (`^ $`): (Start & End)\n",
    "   *   Alternation (`|`): (OR: `a|b` means \"a OR b\")\n",
    "\n",
    "**2. ⚙️ Regex to NFA: Representing a Regexe as NFA**\n",
    "\n",
    "   This section dives into the conversion of regular expressions into Non-deterministic Finite Automata (NFAs). An NFA is a state machine that accepts or rejects strings based on defined transitions. Converting a regex to an NFA provides a visual and computational representation of the pattern.\n",
    "\n",
    "   *   **What is an NFA?** An NFA consists of:\n",
    "         *   A set of states $Q$\n",
    "         *   An input alphabet $\\Sigma$\n",
    "         *   A transition function $\\delta: Q \\times (\\Sigma \\cup \\{\\epsilon\\}) \\rightarrow \\mathcal{P}(Q)$  (where $\\mathcal{P}(Q)$ is the power set of Q, meaning it returns a *set* of possible next states, and $\\epsilon$ represents the empty string/epsilon transition)\n",
    "         *   A start state $q_0 \\in Q$\n",
    "         *   A set of accept states $F \\subseteq Q$\n",
    "\n",
    "\n",
    "   *   **Thompson's Construction:** A common algorithm for converting a regex to an NFA. It builds the NFA step-by-step based on the regex operators.  We'll implement a similar approach.\n",
    "\n",
    "   *   **Example:** The regex `a*` can be represented by an NFA with states $q_0$ and $q_1$, where $q_0$ is the start state and $q_1$ is the accept state. There's an 'a' transition *looping* on $q_1$ and an epsilon transition from $q_0$ to $q_1$.\n",
    "\n",
    "\n",
    "**2. 🚂 Shunting Yard Algorithm: From Infix to Postfix**\n",
    "\n",
    "   We'll implement the Shunting Yard algorithm to transform familiar infix regex (like `a+b*c`) into postfix (Reverse Polish Notation - RPN), which is easier for machines to evaluate.\n",
    "\n",
    "   **Example:** `a + b * c  -->  a b c * +`\n",
    "\n"
   ]
  },
  {
   "cell_type": "markdown",
   "metadata": {},
   "source": [
    "## **I. NFA Representation**"
   ]
  },
  {
   "cell_type": "code",
   "execution_count": null,
   "metadata": {},
   "outputs": [],
   "source": [
    "# How to represent a NFA maybe as\n",
    "# 2d array representing transitions next_state = transition_table[row][col];\n",
    "# events are rows & states are columns\n",
    "# how to match abc, this is how the transition table should look like\n",
    "# last state is always accept state?? maybe\n",
    "#   s0 s1 s2 s3\n",
    "# a 1  N  N\n",
    "# b N  2  N\n",
    "# c N  N  3\n",
    "class State:\n",
    "    def __init__(self, size, name):\n",
    "        self.transitions = [0] * size  # Initialize the transitions list with 0 representing a failure state\n",
    "        self.name = name\n",
    "        \n",
    "    def setTransitions(self, range: range, nextStateIdx: int) -> None:\n",
    "        for i in range:\n",
    "            self.transitions[i] = nextStateIdx \n",
    "        \n",
    "class EngineNFA:\n",
    "    def __init__(self, alphabet):\n",
    "        self.transitions_table = [] \n",
    "        self.alphabet = alphabet # the language this NFA can describe\n",
    "        \n",
    "    def add_state(self, name, transition: range, nextStateIdx: int) -> None:\n",
    "        new_state = State(len(self.alphabet.keys()), name)  # Create a new instance of State\n",
    "        new_state.setTransitions(transition, nextStateIdx)\n",
    "        self.transitions_table.append(new_state)  # Add it to \n",
    "            \n",
    "    def get_key_from_value(self, value):\n",
    "        keys = [k for k, v in self.alphabet.items() if v == value]\n",
    "        return keys[0] if keys else None\n",
    "\n",
    "    def is_match(self, input: str):\n",
    "        next_state = 1\n",
    "        for char in input:\n",
    "            if(next_state == 0 or next_state >= len(self.transitions_table)): break\n",
    "            alphabetKey = self.get_key_from_value(char)\n",
    "            if alphabetKey is None:\n",
    "                raise ValueError(f\"Value '{char}' is not part of the defined alphabet.\")\n",
    "            next_state = self.transitions_table[next_state].transitions[alphabetKey]\n",
    "            \n",
    "        if (next_state == 0): return False\n",
    "        # NOTE : for the string \"abc\" this matches \"abccc\" since char c always have correct ending state\n",
    "        # Is that CORRECT???\n",
    "        return next_state == len(self.transitions_table)\n",
    "    \n",
    "    def dump(self):\n",
    "        for symbol in self.alphabet.keys():\n",
    "            print(f\"{self.alphabet[symbol]} => \", end=\" \")\n",
    "            for state in self.transitions_table:\n",
    "                print(state.transitions[symbol], end=\" \")\n",
    "            print('\\n')\n",
    "    "
   ]
  },
  {
   "cell_type": "code",
   "execution_count": 52,
   "metadata": {},
   "outputs": [
    {
     "name": "stdout",
     "output_type": "stream",
     "text": [
      "True\n"
     ]
    }
   ],
   "source": [
    "# example of a NFA that recognizes the string \"abc\"\n",
    "alphabet = {i - ord('a'): chr(i) for i in range(ord('a'), ord('c') + 1)}\n",
    "events = ['a', 'b', 'c']\n",
    "NFA = EngineNFA(alphabet)\n",
    "# state s0 which is the start state\n",
    "NFA.add_state(\"s1\",  range(0), 0)\n",
    "for idx, _ in enumerate(events):\n",
    "    NFA.add_state(\"s\" + str(idx + 1), range(idx,idx + 1), len(NFA.transitions_table) + 1)\n",
    "\n",
    "print(NFA.is_match(\"abccc\"))"
   ]
  },
  {
   "cell_type": "markdown",
   "metadata": {},
   "source": [
    "## **II. Regex 2 NFA**\n"
   ]
  },
  {
   "cell_type": "markdown",
   "metadata": {},
   "source": [
    "## Step 1: Parsing\n",
    "#### Actualy, instead of creating a parser for the regex, I will use the _Shunting-Yard Algorithm_ to translate the regex to reverse polish notation."
   ]
  },
  {
   "cell_type": "code",
   "execution_count": 9,
   "metadata": {},
   "outputs": [
    {
     "name": "stdout",
     "output_type": "stream",
     "text": [
      "ab|+a#?#c|\n"
     ]
    }
   ],
   "source": [
    "# Shunting-Yard Algorithm\n",
    "#  Operator precedance and associativity, table taken from unix: (Not all operators are supported in below implementation.)\n",
    "#  +---+----------------------------------------------------------+\n",
    "#  |   |             ERE Precedence (from high to low)            |\n",
    "#  +---+----------------------------------------------------------+\n",
    "#  | 1 | Collation-related bracket symbols | [==] [::] [..]       |\n",
    "#  | 2 | Escaped characters                | \\<special character> |\n",
    "#  | 3 | Bracket expression                | []                   |\n",
    "#  | 4 | Grouping                          | ()                   |\n",
    "#  | 5 | Single-character-ERE duplication  | * + ? {m,n}          |\n",
    "#  | 6 | Concatenation                     | #                    |\n",
    "#  | 7 | Anchoring                         | ^ $                  |\n",
    "#  | 8 | Alternation                       | |                    |\n",
    "#  +---+-----------------------------------+----------------------+\n",
    "def getPresedence(op):\n",
    "    opPresedence = {\"(\": 1, \"|\": 2, \"#\": 3, \"?\":6, \"*\":6, \"+\": 6, \"^\": 5, \"$\": 5}    \n",
    "    if op in opPresedence:\n",
    "        return opPresedence[op]\n",
    "    else:\n",
    "        return max(opPresedence.values()) + 1\n",
    "    \n",
    "def implicitConcat(regex):\n",
    "    output = regex[0]\n",
    "    i = 1\n",
    "    while(i < len(regex)):\n",
    "        match regex[i]:\n",
    "            case char if char in (\")\", \"+\", \"*\", \"|\"):\n",
    "                output += regex[i]\n",
    "            case _:\n",
    "                if(regex[i-1] == \"(\" or regex[i-1] == \"|\"):\n",
    "                    output += regex[i]\n",
    "                else:\n",
    "                    output += \"#\" + regex[i]\n",
    "        i +=1\n",
    "    return output\n",
    "        \n",
    "    \n",
    "def infix2Postfix(regex):\n",
    "    stack = []\n",
    "    output = \"\"\n",
    "    for char in regex:\n",
    "        match char:\n",
    "            case \"(\":\n",
    "                stack.append(char)\n",
    "            case \")\":\n",
    "                while(len(stack) and stack[-1] != '('):\n",
    "                    output += stack.pop()\n",
    "                stack.pop()\n",
    "            case _:\n",
    "                while(len(stack)):\n",
    "                    if(getPresedence(stack[-1]) >= getPresedence(char)):\n",
    "                        output += stack.pop()\n",
    "                    else: break\n",
    "                stack.append(char)\n",
    "                    \n",
    "    while (len(stack)):\n",
    "            if (stack[-1] == '(' or stack[-1] == ')'):\n",
    "                raise ValueError(f\"Invalid Expression: Open parenthesis without closing\")\n",
    "            output += stack.pop()\n",
    "    return output\n",
    "\n",
    "print(infix2Postfix(implicitConcat(\"(a|b)+a?|c\")))\n",
    "# +------------+---------------+\n",
    "# | INFIX      | POSTFIX       |\n",
    "# +------------+---------------+\n",
    "# | ^xyz$      |  ^x#y#z#$#    |\n",
    "# | (a|b)+a?|c |  ab|+a#?#c|   |\n",
    "# +------------+---------------+\n"
   ]
  }
 ],
 "metadata": {
  "kernelspec": {
   "display_name": ".venv",
   "language": "python",
   "name": "python3"
  },
  "language_info": {
   "codemirror_mode": {
    "name": "ipython",
    "version": 3
   },
   "file_extension": ".py",
   "mimetype": "text/x-python",
   "name": "python",
   "nbconvert_exporter": "python",
   "pygments_lexer": "ipython3",
   "version": "3.10.12"
  }
 },
 "nbformat": 4,
 "nbformat_minor": 2
}
